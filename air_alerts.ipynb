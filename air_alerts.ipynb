{
  "nbformat": 4,
  "nbformat_minor": 0,
  "metadata": {
    "colab": {
      "name": "air alerts.ipynb",
      "provenance": []
    },
    "kernelspec": {
      "name": "python3",
      "display_name": "Python 3"
    }
  },
  "cells": [
    {
      "cell_type": "code",
      "metadata": {
        "id": "DTnCgjBDoKD0",
        "colab": {
          "base_uri": "https://localhost:8080/"
        },
        "outputId": "95870d1a-0bf2-40df-c5f4-9b2f749c96e3"
      },
      "source": [
        "from google.colab import drive\n",
        "drive.mount('/content/drive')"
      ],
      "execution_count": 76,
      "outputs": [
        {
          "output_type": "stream",
          "name": "stdout",
          "text": [
            "Drive already mounted at /content/drive; to attempt to forcibly remount, call drive.mount(\"/content/drive\", force_remount=True).\n"
          ]
        }
      ]
    },
    {
      "cell_type": "code",
      "metadata": {
        "id": "BiR8SMJ1oHcK"
      },
      "source": [
        "import pandas as pd\n",
        "import matplotlib.pyplot as plt\n",
        "import seaborn as sns\n",
        "import json\n",
        "import seaborn as sns"
      ],
      "execution_count": 77,
      "outputs": []
    },
    {
      "cell_type": "code",
      "source": [
        "alerts1 = pd.read_json('/content/drive/MyDrive/data/air_alerts/air_alert_2022_03_15_2022_04_09.json')\n",
        "alerts2 = pd.read_json('/content/drive/MyDrive/data/air_alerts/air_alert_2022_04_09_2022_04_11.json')\n",
        "alerts3 = pd.read_json('/content/drive/MyDrive/data/air_alerts/air_alert_2022_04_10_2022_04_16.json')\n",
        "alerts4 = pd.read_json('/content/drive/MyDrive/data/air_alerts/air_alert_2022_04_17_2022_04_20.json')\n",
        "alerts5 = pd.read_json('/content/drive/MyDrive/data/air_alerts/air_alert_2022_04_21_2022_04_26.json')\n",
        "alerts6 = pd.read_json('/content/drive/MyDrive/data/air_alerts/air_alert_2022_04_27_2022_05_05.json')\n",
        "pdList = [alerts1,alerts2,alerts3,alerts4,alerts5,alerts6]\n",
        "alerts_data = pd.concat(pdList)"
      ],
      "metadata": {
        "id": "UxklHHGW1Lwn"
      },
      "execution_count": 148,
      "outputs": []
    },
    {
      "cell_type": "code",
      "source": [
        "alerts_data = alerts_data.iloc[1:,:]"
      ],
      "metadata": {
        "id": "NQ_xein0JaT_"
      },
      "execution_count": 149,
      "outputs": []
    },
    {
      "cell_type": "code",
      "source": [
        "#those fields are same in all data sets\n",
        "alerts_data[['id', 'type', 'date', 'from', 'from_id', 'text']] = alerts_data.messages.apply(pd.Series)\n",
        "alerts_data[[\"info\", \"message\", \"region\", \"other\"]] = alerts_data.text.apply(pd.Series)\n",
        "alerts_data = alerts_data.drop([\"type\", \"messages\", \"other\", \"from\", \"from_id\"], axis=1)\n",
        "#in info column there's a mismatched formating across data sets\n",
        "alerts_type1 = alerts_data['info'].str['text']\n",
        "alerts_data1 = alerts_data.loc[alerts_type1.isna()]\n",
        "alerts_data1[[\"region_type\", \"region_text\"]] = alerts_data1.message.apply(pd.Series)\n",
        "alerts_data1.rename(columns = {'info':'message_text'}, inplace = True)\n",
        "alerts_data1 = alerts_data1.drop([\"region_type\", \"region\"], axis=1)\n",
        "#rest of the data\n",
        "alerts_type2 = alerts_data['info'].str['text']\n",
        "alerts_data2 = alerts_data.loc[~alerts_type2.isna()]\n",
        "alerts_data2[[\"region_type\", \"region_text\"]] = alerts_data2.region.apply(pd.Series)\n",
        "alerts_data2[[\"message_type\", \"message_text\"]] = alerts_data2['info'].apply(pd.Series)\n",
        "alerts_data2 = alerts_data2.drop([\"message_type\", \"region_type\", \"region\", \"info\"], axis=1)"
      ],
      "metadata": {
        "colab": {
          "base_uri": "https://localhost:8080/"
        },
        "id": "yEDs109eoSh6",
        "outputId": "60584a67-fe29-4ecc-90b4-e138c8ec4b81"
      },
      "execution_count": 150,
      "outputs": [
        {
          "output_type": "stream",
          "name": "stderr",
          "text": [
            "/usr/local/lib/python3.7/dist-packages/pandas/core/frame.py:3641: SettingWithCopyWarning: \n",
            "A value is trying to be set on a copy of a slice from a DataFrame.\n",
            "Try using .loc[row_indexer,col_indexer] = value instead\n",
            "\n",
            "See the caveats in the documentation: https://pandas.pydata.org/pandas-docs/stable/user_guide/indexing.html#returning-a-view-versus-a-copy\n",
            "  self[k1] = value[k2]\n",
            "/usr/local/lib/python3.7/dist-packages/pandas/core/frame.py:5047: SettingWithCopyWarning: \n",
            "A value is trying to be set on a copy of a slice from a DataFrame\n",
            "\n",
            "See the caveats in the documentation: https://pandas.pydata.org/pandas-docs/stable/user_guide/indexing.html#returning-a-view-versus-a-copy\n",
            "  errors=errors,\n"
          ]
        }
      ]
    },
    {
      "cell_type": "code",
      "source": [
        "data = [alerts_data1, alerts_data2]\n",
        "alerts = pd.concat(data)\n",
        "alerts = alerts.drop([\"text\", \"message\"], axis=1)"
      ],
      "metadata": {
        "id": "kJdHU44r68QO"
      },
      "execution_count": 151,
      "outputs": []
    },
    {
      "cell_type": "code",
      "source": [
        "alerts.head()"
      ],
      "metadata": {
        "colab": {
          "base_uri": "https://localhost:8080/",
          "height": 337
        },
        "id": "UZ_gkSNs7CzG",
        "outputId": "8df5e330-5882-4e07-9f20-c6d1e60b20da"
      },
      "execution_count": 163,
      "outputs": [
        {
          "output_type": "execute_result",
          "data": {
            "text/plain": [
              "                name  id                date  \\\n",
              "1  Повітряна Тривога   6 2022-03-15 18:02:56   \n",
              "2  Повітряна Тривога   7 2022-03-15 18:10:34   \n",
              "3  Повітряна Тривога   8 2022-03-15 18:11:25   \n",
              "4  Повітряна Тривога   9 2022-03-15 18:11:50   \n",
              "5  Повітряна Тривога  10 2022-03-15 18:14:46   \n",
              "\n",
              "                                        message_text  \\\n",
              "1         🟢 18:02 Відбій тривоги в Київська область.   \n",
              "2      🔴 18:10 Повітряна тривога в Вінницька область   \n",
              "3    🔴 18:11 Повітряна тривога в Житомирська область   \n",
              "4  🔴 18:11 Повітряна тривога в Уманська територіа...   \n",
              "5  🔴 18:14 Повітряна тривога в м. Первомайськ та ...   \n",
              "\n",
              "                                         region_text  date_stamp  \\\n",
              "1                                  #Київська_область  2022-03-15   \n",
              "2                                 #Вінницька_область  2022-03-15   \n",
              "3                               #Житомирська_область  2022-03-15   \n",
              "4                    #Уманська_територіальна_громада  2022-03-15   \n",
              "5  #м_Первомайськ_та_Первомайська_територіальна_г...  2022-03-15   \n",
              "\n",
              "         duration  \n",
              "1             NaT  \n",
              "2 0 days 00:07:38  \n",
              "3 0 days 00:00:51  \n",
              "4 0 days 00:00:25  \n",
              "5 0 days 00:02:56  "
            ],
            "text/html": [
              "\n",
              "  <div id=\"df-67d28b1b-c5b8-4fd2-92bf-da6547638bc5\">\n",
              "    <div class=\"colab-df-container\">\n",
              "      <div>\n",
              "<style scoped>\n",
              "    .dataframe tbody tr th:only-of-type {\n",
              "        vertical-align: middle;\n",
              "    }\n",
              "\n",
              "    .dataframe tbody tr th {\n",
              "        vertical-align: top;\n",
              "    }\n",
              "\n",
              "    .dataframe thead th {\n",
              "        text-align: right;\n",
              "    }\n",
              "</style>\n",
              "<table border=\"1\" class=\"dataframe\">\n",
              "  <thead>\n",
              "    <tr style=\"text-align: right;\">\n",
              "      <th></th>\n",
              "      <th>name</th>\n",
              "      <th>id</th>\n",
              "      <th>date</th>\n",
              "      <th>message_text</th>\n",
              "      <th>region_text</th>\n",
              "      <th>date_stamp</th>\n",
              "      <th>duration</th>\n",
              "    </tr>\n",
              "  </thead>\n",
              "  <tbody>\n",
              "    <tr>\n",
              "      <th>1</th>\n",
              "      <td>Повітряна Тривога</td>\n",
              "      <td>6</td>\n",
              "      <td>2022-03-15 18:02:56</td>\n",
              "      <td>🟢 18:02 Відбій тривоги в Київська область.</td>\n",
              "      <td>#Київська_область</td>\n",
              "      <td>2022-03-15</td>\n",
              "      <td>NaT</td>\n",
              "    </tr>\n",
              "    <tr>\n",
              "      <th>2</th>\n",
              "      <td>Повітряна Тривога</td>\n",
              "      <td>7</td>\n",
              "      <td>2022-03-15 18:10:34</td>\n",
              "      <td>🔴 18:10 Повітряна тривога в Вінницька область</td>\n",
              "      <td>#Вінницька_область</td>\n",
              "      <td>2022-03-15</td>\n",
              "      <td>0 days 00:07:38</td>\n",
              "    </tr>\n",
              "    <tr>\n",
              "      <th>3</th>\n",
              "      <td>Повітряна Тривога</td>\n",
              "      <td>8</td>\n",
              "      <td>2022-03-15 18:11:25</td>\n",
              "      <td>🔴 18:11 Повітряна тривога в Житомирська область</td>\n",
              "      <td>#Житомирська_область</td>\n",
              "      <td>2022-03-15</td>\n",
              "      <td>0 days 00:00:51</td>\n",
              "    </tr>\n",
              "    <tr>\n",
              "      <th>4</th>\n",
              "      <td>Повітряна Тривога</td>\n",
              "      <td>9</td>\n",
              "      <td>2022-03-15 18:11:50</td>\n",
              "      <td>🔴 18:11 Повітряна тривога в Уманська територіа...</td>\n",
              "      <td>#Уманська_територіальна_громада</td>\n",
              "      <td>2022-03-15</td>\n",
              "      <td>0 days 00:00:25</td>\n",
              "    </tr>\n",
              "    <tr>\n",
              "      <th>5</th>\n",
              "      <td>Повітряна Тривога</td>\n",
              "      <td>10</td>\n",
              "      <td>2022-03-15 18:14:46</td>\n",
              "      <td>🔴 18:14 Повітряна тривога в м. Первомайськ та ...</td>\n",
              "      <td>#м_Первомайськ_та_Первомайська_територіальна_г...</td>\n",
              "      <td>2022-03-15</td>\n",
              "      <td>0 days 00:02:56</td>\n",
              "    </tr>\n",
              "  </tbody>\n",
              "</table>\n",
              "</div>\n",
              "      <button class=\"colab-df-convert\" onclick=\"convertToInteractive('df-67d28b1b-c5b8-4fd2-92bf-da6547638bc5')\"\n",
              "              title=\"Convert this dataframe to an interactive table.\"\n",
              "              style=\"display:none;\">\n",
              "        \n",
              "  <svg xmlns=\"http://www.w3.org/2000/svg\" height=\"24px\"viewBox=\"0 0 24 24\"\n",
              "       width=\"24px\">\n",
              "    <path d=\"M0 0h24v24H0V0z\" fill=\"none\"/>\n",
              "    <path d=\"M18.56 5.44l.94 2.06.94-2.06 2.06-.94-2.06-.94-.94-2.06-.94 2.06-2.06.94zm-11 1L8.5 8.5l.94-2.06 2.06-.94-2.06-.94L8.5 2.5l-.94 2.06-2.06.94zm10 10l.94 2.06.94-2.06 2.06-.94-2.06-.94-.94-2.06-.94 2.06-2.06.94z\"/><path d=\"M17.41 7.96l-1.37-1.37c-.4-.4-.92-.59-1.43-.59-.52 0-1.04.2-1.43.59L10.3 9.45l-7.72 7.72c-.78.78-.78 2.05 0 2.83L4 21.41c.39.39.9.59 1.41.59.51 0 1.02-.2 1.41-.59l7.78-7.78 2.81-2.81c.8-.78.8-2.07 0-2.86zM5.41 20L4 18.59l7.72-7.72 1.47 1.35L5.41 20z\"/>\n",
              "  </svg>\n",
              "      </button>\n",
              "      \n",
              "  <style>\n",
              "    .colab-df-container {\n",
              "      display:flex;\n",
              "      flex-wrap:wrap;\n",
              "      gap: 12px;\n",
              "    }\n",
              "\n",
              "    .colab-df-convert {\n",
              "      background-color: #E8F0FE;\n",
              "      border: none;\n",
              "      border-radius: 50%;\n",
              "      cursor: pointer;\n",
              "      display: none;\n",
              "      fill: #1967D2;\n",
              "      height: 32px;\n",
              "      padding: 0 0 0 0;\n",
              "      width: 32px;\n",
              "    }\n",
              "\n",
              "    .colab-df-convert:hover {\n",
              "      background-color: #E2EBFA;\n",
              "      box-shadow: 0px 1px 2px rgba(60, 64, 67, 0.3), 0px 1px 3px 1px rgba(60, 64, 67, 0.15);\n",
              "      fill: #174EA6;\n",
              "    }\n",
              "\n",
              "    [theme=dark] .colab-df-convert {\n",
              "      background-color: #3B4455;\n",
              "      fill: #D2E3FC;\n",
              "    }\n",
              "\n",
              "    [theme=dark] .colab-df-convert:hover {\n",
              "      background-color: #434B5C;\n",
              "      box-shadow: 0px 1px 3px 1px rgba(0, 0, 0, 0.15);\n",
              "      filter: drop-shadow(0px 1px 2px rgba(0, 0, 0, 0.3));\n",
              "      fill: #FFFFFF;\n",
              "    }\n",
              "  </style>\n",
              "\n",
              "      <script>\n",
              "        const buttonEl =\n",
              "          document.querySelector('#df-67d28b1b-c5b8-4fd2-92bf-da6547638bc5 button.colab-df-convert');\n",
              "        buttonEl.style.display =\n",
              "          google.colab.kernel.accessAllowed ? 'block' : 'none';\n",
              "\n",
              "        async function convertToInteractive(key) {\n",
              "          const element = document.querySelector('#df-67d28b1b-c5b8-4fd2-92bf-da6547638bc5');\n",
              "          const dataTable =\n",
              "            await google.colab.kernel.invokeFunction('convertToInteractive',\n",
              "                                                     [key], {});\n",
              "          if (!dataTable) return;\n",
              "\n",
              "          const docLinkHtml = 'Like what you see? Visit the ' +\n",
              "            '<a target=\"_blank\" href=https://colab.research.google.com/notebooks/data_table.ipynb>data table notebook</a>'\n",
              "            + ' to learn more about interactive tables.';\n",
              "          element.innerHTML = '';\n",
              "          dataTable['output_type'] = 'display_data';\n",
              "          await google.colab.output.renderOutput(dataTable, element);\n",
              "          const docLink = document.createElement('div');\n",
              "          docLink.innerHTML = docLinkHtml;\n",
              "          element.appendChild(docLink);\n",
              "        }\n",
              "      </script>\n",
              "    </div>\n",
              "  </div>\n",
              "  "
            ]
          },
          "metadata": {},
          "execution_count": 163
        }
      ]
    },
    {
      "cell_type": "code",
      "source": [
        "district_names = {\n",
        "    \"Черкас\": \"Cherkasy\",\n",
        "    \"Чернігі\": \"Chernihiv\",\n",
        "    \"Чернівц\": \"Chernivtsi\",\n",
        "    \"Дніпро\": \"Dnipro\",\n",
        "    \"Дніпр\": \"Donetsk\",\n",
        "    \"Івано\": \"Ivano Frankivsk\",\n",
        "    \"Харків\": \"Kharkiv\",\n",
        "    \"Хмель\": \"Khmelnytskyi\",\n",
        "    \"Херсон\": \"Kherson\",\n",
        "    \"Київ\": \"Kyiv\",\n",
        "    \"Кропив\": \"Kropyvnytskyi\",\n",
        "    \"Луган\": \"Luhansk\",\n",
        "    \"Львів\": \"Lviv\",\n",
        "    \"Микол\": \"Mykolaiv\",\n",
        "    \"Одес\": \"Odesa\",\n",
        "    \"Полтав\": \"Poltava\",\n",
        "    \"Рівн\": \"Rivne\",\n",
        "    \"Сум\": \"Sumy\",\n",
        "    \"Терноп\": \"Ternopil\",\n",
        "    \"Вінни\": \"Vinnytsia\",\n",
        "    \"Луцьк\": \"Lutsk\",\n",
        "    \"Волин\": \"Lutsk\",\n",
        "    \"Ужгор\": \"Uzhhorod\",\n",
        "    \"Закап\": \"Zaporizhzhia\",\n",
        "    \"Житом\": \"Zhytomyr\",\n",
        "}\n",
        "def normalize_region(text_region):\n",
        "    for key, val in district_names.items():\n",
        "        if key in text_region:\n",
        "            return val\n",
        "    return None\n",
        "alerts[\"region_name\"] = alerts[\"region_text\"].apply(normalize_region)"
      ],
      "metadata": {
        "id": "TwSiPgLgII10"
      },
      "execution_count": 392,
      "outputs": []
    },
    {
      "cell_type": "code",
      "source": [
        "alerts[\"date\"] = alerts['date'].apply(pd.Timestamp)\n",
        "alerts = alerts.sort_values(by=\"date\")\n",
        "alerts[\"date_stamp\"] = alerts['date'].apply(lambda x: x.date())"
      ],
      "metadata": {
        "id": "toaR7RJbT12w"
      },
      "execution_count": 158,
      "outputs": []
    },
    {
      "cell_type": "code",
      "source": [
        "# Plotting a bar graph of the number of stores in each city, for the first ten cities listed\n",
        "# in the column 'City'\n",
        "city_count  = alerts['region_name'].value_counts()\n",
        "city_count = city_count\n",
        "plt.figure(figsize=(12,8))\n",
        "sns.barplot(city_count.values, city_count.index, alpha=0.8)\n",
        "plt.title('Air alerts')\n",
        "plt.ylabel('Number of Occurrences', fontsize=12)\n",
        "plt.xlabel('region', fontsize=12)\n",
        "plt.show()"
      ],
      "metadata": {
        "colab": {
          "base_uri": "https://localhost:8080/",
          "height": 605
        },
        "id": "MWDbamQ4N3wO",
        "outputId": "12cf69fe-5616-4726-dc0e-52a125116e52"
      },
      "execution_count": 395,
      "outputs": [
        {
          "output_type": "stream",
          "name": "stderr",
          "text": [
            "/usr/local/lib/python3.7/dist-packages/seaborn/_decorators.py:43: FutureWarning:\n",
            "\n",
            "Pass the following variables as keyword args: x, y. From version 0.12, the only valid positional argument will be `data`, and passing other arguments without an explicit keyword will result in an error or misinterpretation.\n",
            "\n"
          ]
        },
        {
          "output_type": "display_data",
          "data": {
            "text/plain": [
              "<Figure size 864x576 with 1 Axes>"
            ],
            "image/png": "[encoded data removed]"
          },
          "metadata": {
            "needs_background": "light"
          }
        }
      ]
    },
    {
      "cell_type": "code",
      "source": [
        "kyiv = alerts.loc[alerts[\"region_text\"] == \"#Харківська_область\"]\n",
        "kyiv['duration'] = kyiv['date'] - kyiv['date'].shift(1)"
      ],
      "metadata": {
        "colab": {
          "base_uri": "https://localhost:8080/"
        },
        "id": "dbPSrtITR8Bu",
        "outputId": "896869d3-2cc5-4dea-e5c7-88a143aaa53f"
      },
      "execution_count": 377,
      "outputs": [
        {
          "output_type": "stream",
          "name": "stderr",
          "text": [
            "/usr/local/lib/python3.7/dist-packages/ipykernel_launcher.py:2: SettingWithCopyWarning:\n",
            "\n",
            "\n",
            "A value is trying to be set on a copy of a slice from a DataFrame.\n",
            "Try using .loc[row_indexer,col_indexer] = value instead\n",
            "\n",
            "See the caveats in the documentation: https://pandas.pydata.org/pandas-docs/stable/user_guide/indexing.html#returning-a-view-versus-a-copy\n",
            "\n"
          ]
        }
      ]
    },
    {
      "cell_type": "code",
      "source": [
        "kyiv_duration = kyiv.loc[~kyiv[\"message_text\"].str.contains(\"Повітряна тривога\")]\n",
        "kyiv[\"alerts_sum\"] = kyiv_duration[\"duration\"].sum()"
      ],
      "metadata": {
        "colab": {
          "base_uri": "https://localhost:8080/"
        },
        "id": "8lVVyJ7Zjc6a",
        "outputId": "3a9a489f-ae70-41e4-e006-39ad0f875f09"
      },
      "execution_count": 378,
      "outputs": [
        {
          "output_type": "stream",
          "name": "stderr",
          "text": [
            "/usr/local/lib/python3.7/dist-packages/ipykernel_launcher.py:2: SettingWithCopyWarning:\n",
            "\n",
            "\n",
            "A value is trying to be set on a copy of a slice from a DataFrame.\n",
            "Try using .loc[row_indexer,col_indexer] = value instead\n",
            "\n",
            "See the caveats in the documentation: https://pandas.pydata.org/pandas-docs/stable/user_guide/indexing.html#returning-a-view-versus-a-copy\n",
            "\n"
          ]
        }
      ]
    },
    {
      "cell_type": "code",
      "source": [
        "plt.figure(figsize=(14,7)) # Make it 14x7 inch\n",
        "n, bins, patches = plt.hist(kyiv.loc[kyiv[\"message_text\"].str.contains(\"Повітряна тривога\")]['date'],\n",
        "                            bins=52, facecolor='#2ab0ff', edgecolor='#e0e0e0', linewidth=0.5, alpha=0.7)\n",
        "\n",
        "n = n.astype('int') # it MUST be integer\n",
        "# Good old loop. Choose colormap of your taste\n",
        "for i in range(len(patches)):\n",
        "    patches[i].set_facecolor(plt.cm.viridis(n[i]/max(n)))\n",
        "\n",
        "# Add title and labels with custom font sizes\n",
        "plt.title('Air Alerts in Kyiv', fontsize=12)\n",
        "plt.xlabel('Date', fontsize=10)\n",
        "plt.ylabel('Alerts', fontsize=10)\n",
        "plt.show()"
      ],
      "metadata": {
        "colab": {
          "base_uri": "https://localhost:8080/",
          "height": 458
        },
        "id": "8cGsu34zWv66",
        "outputId": "7657d5c4-6398-403c-ff34-0102f7bedbd3"
      },
      "execution_count": 235,
      "outputs": [
        {
          "output_type": "display_data",
          "data": {
            "text/plain": [
              "<Figure size 1008x504 with 1 Axes>"
            ],
            "image/png": "[encoded data removed]"
          },
          "metadata": {
            "needs_background": "light"
          }
        }
      ]
    },
    {
      "cell_type": "code",
      "source": [
        "kyiv = kyiv.iloc[1:]\n",
        "kyiv[\"alert_hours\"] = kyiv['duration'].apply(lambda x:x.components.minutes)\n",
        "kyiv.head()"
      ],
      "metadata": {
        "colab": {
          "base_uri": "https://localhost:8080/",
          "height": 476
        },
        "id": "VvI7XoZ8PnBg",
        "outputId": "3078725e-5fad-4c04-b384-9b8dd1252e0c"
      },
      "execution_count": 379,
      "outputs": [
        {
          "output_type": "stream",
          "name": "stderr",
          "text": [
            "/usr/local/lib/python3.7/dist-packages/ipykernel_launcher.py:2: SettingWithCopyWarning:\n",
            "\n",
            "\n",
            "A value is trying to be set on a copy of a slice from a DataFrame.\n",
            "Try using .loc[row_indexer,col_indexer] = value instead\n",
            "\n",
            "See the caveats in the documentation: https://pandas.pydata.org/pandas-docs/stable/user_guide/indexing.html#returning-a-view-versus-a-copy\n",
            "\n"
          ]
        },
        {
          "output_type": "execute_result",
          "data": {
            "text/plain": [
              "                  name   id                date  \\\n",
              "119  Повітряна Тривога  124 2022-03-16 06:23:09   \n",
              "138  Повітряна Тривога  143 2022-03-16 09:39:56   \n",
              "140  Повітряна Тривога  145 2022-03-16 09:48:36   \n",
              "276  Повітряна Тривога  281 2022-03-16 21:50:31   \n",
              "314  Повітряна Тривога  319 2022-03-16 23:49:08   \n",
              "\n",
              "                                       message_text          region_text  \\\n",
              "119    🟢 06:23 Відбій тривоги в Харківська область.  #Харківська_область   \n",
              "138  🔴 09:39 Повітряна тривога в Харківська область  #Харківська_область   \n",
              "140    🟢 09:48 Відбій тривоги в Харківська область.  #Харківська_область   \n",
              "276  🔴 21:50 Повітряна тривога в Харківська область  #Харківська_область   \n",
              "314    🟢 23:49 Відбій тривоги в Харківська область.  #Харківська_область   \n",
              "\n",
              "     date_stamp        duration       alerts_sum  alert_hours  \n",
              "119  2022-03-16 0 days 04:36:04 11 days 13:46:55           36  \n",
              "138  2022-03-16 0 days 03:16:47 11 days 13:46:55           16  \n",
              "140  2022-03-16 0 days 00:08:40 11 days 13:46:55            8  \n",
              "276  2022-03-16 0 days 12:01:55 11 days 13:46:55            1  \n",
              "314  2022-03-16 0 days 01:58:37 11 days 13:46:55           58  "
            ],
            "text/html": [
              "\n",
              "  <div id=\"df-51df875b-2976-4bd9-9eb9-2e7366a0ebdc\">\n",
              "    <div class=\"colab-df-container\">\n",
              "      <div>\n",
              "<style scoped>\n",
              "    .dataframe tbody tr th:only-of-type {\n",
              "        vertical-align: middle;\n",
              "    }\n",
              "\n",
              "    .dataframe tbody tr th {\n",
              "        vertical-align: top;\n",
              "    }\n",
              "\n",
              "    .dataframe thead th {\n",
              "        text-align: right;\n",
              "    }\n",
              "</style>\n",
              "<table border=\"1\" class=\"dataframe\">\n",
              "  <thead>\n",
              "    <tr style=\"text-align: right;\">\n",
              "      <th></th>\n",
              "      <th>name</th>\n",
              "      <th>id</th>\n",
              "      <th>date</th>\n",
              "      <th>message_text</th>\n",
              "      <th>region_text</th>\n",
              "      <th>date_stamp</th>\n",
              "      <th>duration</th>\n",
              "      <th>alerts_sum</th>\n",
              "      <th>alert_hours</th>\n",
              "    </tr>\n",
              "  </thead>\n",
              "  <tbody>\n",
              "    <tr>\n",
              "      <th>119</th>\n",
              "      <td>Повітряна Тривога</td>\n",
              "      <td>124</td>\n",
              "      <td>2022-03-16 06:23:09</td>\n",
              "      <td>🟢 06:23 Відбій тривоги в Харківська область.</td>\n",
              "      <td>#Харківська_область</td>\n",
              "      <td>2022-03-16</td>\n",
              "      <td>0 days 04:36:04</td>\n",
              "      <td>11 days 13:46:55</td>\n",
              "      <td>36</td>\n",
              "    </tr>\n",
              "    <tr>\n",
              "      <th>138</th>\n",
              "      <td>Повітряна Тривога</td>\n",
              "      <td>143</td>\n",
              "      <td>2022-03-16 09:39:56</td>\n",
              "      <td>🔴 09:39 Повітряна тривога в Харківська область</td>\n",
              "      <td>#Харківська_область</td>\n",
              "      <td>2022-03-16</td>\n",
              "      <td>0 days 03:16:47</td>\n",
              "      <td>11 days 13:46:55</td>\n",
              "      <td>16</td>\n",
              "    </tr>\n",
              "    <tr>\n",
              "      <th>140</th>\n",
              "      <td>Повітряна Тривога</td>\n",
              "      <td>145</td>\n",
              "      <td>2022-03-16 09:48:36</td>\n",
              "      <td>🟢 09:48 Відбій тривоги в Харківська область.</td>\n",
              "      <td>#Харківська_область</td>\n",
              "      <td>2022-03-16</td>\n",
              "      <td>0 days 00:08:40</td>\n",
              "      <td>11 days 13:46:55</td>\n",
              "      <td>8</td>\n",
              "    </tr>\n",
              "    <tr>\n",
              "      <th>276</th>\n",
              "      <td>Повітряна Тривога</td>\n",
              "      <td>281</td>\n",
              "      <td>2022-03-16 21:50:31</td>\n",
              "      <td>🔴 21:50 Повітряна тривога в Харківська область</td>\n",
              "      <td>#Харківська_область</td>\n",
              "      <td>2022-03-16</td>\n",
              "      <td>0 days 12:01:55</td>\n",
              "      <td>11 days 13:46:55</td>\n",
              "      <td>1</td>\n",
              "    </tr>\n",
              "    <tr>\n",
              "      <th>314</th>\n",
              "      <td>Повітряна Тривога</td>\n",
              "      <td>319</td>\n",
              "      <td>2022-03-16 23:49:08</td>\n",
              "      <td>🟢 23:49 Відбій тривоги в Харківська область.</td>\n",
              "      <td>#Харківська_область</td>\n",
              "      <td>2022-03-16</td>\n",
              "      <td>0 days 01:58:37</td>\n",
              "      <td>11 days 13:46:55</td>\n",
              "      <td>58</td>\n",
              "    </tr>\n",
              "  </tbody>\n",
              "</table>\n",
              "</div>\n",
              "      <button class=\"colab-df-convert\" onclick=\"convertToInteractive('df-51df875b-2976-4bd9-9eb9-2e7366a0ebdc')\"\n",
              "              title=\"Convert this dataframe to an interactive table.\"\n",
              "              style=\"display:none;\">\n",
              "        \n",
              "  <svg xmlns=\"http://www.w3.org/2000/svg\" height=\"24px\"viewBox=\"0 0 24 24\"\n",
              "       width=\"24px\">\n",
              "    <path d=\"M0 0h24v24H0V0z\" fill=\"none\"/>\n",
              "    <path d=\"M18.56 5.44l.94 2.06.94-2.06 2.06-.94-2.06-.94-.94-2.06-.94 2.06-2.06.94zm-11 1L8.5 8.5l.94-2.06 2.06-.94-2.06-.94L8.5 2.5l-.94 2.06-2.06.94zm10 10l.94 2.06.94-2.06 2.06-.94-2.06-.94-.94-2.06-.94 2.06-2.06.94z\"/><path d=\"M17.41 7.96l-1.37-1.37c-.4-.4-.92-.59-1.43-.59-.52 0-1.04.2-1.43.59L10.3 9.45l-7.72 7.72c-.78.78-.78 2.05 0 2.83L4 21.41c.39.39.9.59 1.41.59.51 0 1.02-.2 1.41-.59l7.78-7.78 2.81-2.81c.8-.78.8-2.07 0-2.86zM5.41 20L4 18.59l7.72-7.72 1.47 1.35L5.41 20z\"/>\n",
              "  </svg>\n",
              "      </button>\n",
              "      \n",
              "  <style>\n",
              "    .colab-df-container {\n",
              "      display:flex;\n",
              "      flex-wrap:wrap;\n",
              "      gap: 12px;\n",
              "    }\n",
              "\n",
              "    .colab-df-convert {\n",
              "      background-color: #E8F0FE;\n",
              "      border: none;\n",
              "      border-radius: 50%;\n",
              "      cursor: pointer;\n",
              "      display: none;\n",
              "      fill: #1967D2;\n",
              "      height: 32px;\n",
              "      padding: 0 0 0 0;\n",
              "      width: 32px;\n",
              "    }\n",
              "\n",
              "    .colab-df-convert:hover {\n",
              "      background-color: #E2EBFA;\n",
              "      box-shadow: 0px 1px 2px rgba(60, 64, 67, 0.3), 0px 1px 3px 1px rgba(60, 64, 67, 0.15);\n",
              "      fill: #174EA6;\n",
              "    }\n",
              "\n",
              "    [theme=dark] .colab-df-convert {\n",
              "      background-color: #3B4455;\n",
              "      fill: #D2E3FC;\n",
              "    }\n",
              "\n",
              "    [theme=dark] .colab-df-convert:hover {\n",
              "      background-color: #434B5C;\n",
              "      box-shadow: 0px 1px 3px 1px rgba(0, 0, 0, 0.15);\n",
              "      filter: drop-shadow(0px 1px 2px rgba(0, 0, 0, 0.3));\n",
              "      fill: #FFFFFF;\n",
              "    }\n",
              "  </style>\n",
              "\n",
              "      <script>\n",
              "        const buttonEl =\n",
              "          document.querySelector('#df-51df875b-2976-4bd9-9eb9-2e7366a0ebdc button.colab-df-convert');\n",
              "        buttonEl.style.display =\n",
              "          google.colab.kernel.accessAllowed ? 'block' : 'none';\n",
              "\n",
              "        async function convertToInteractive(key) {\n",
              "          const element = document.querySelector('#df-51df875b-2976-4bd9-9eb9-2e7366a0ebdc');\n",
              "          const dataTable =\n",
              "            await google.colab.kernel.invokeFunction('convertToInteractive',\n",
              "                                                     [key], {});\n",
              "          if (!dataTable) return;\n",
              "\n",
              "          const docLinkHtml = 'Like what you see? Visit the ' +\n",
              "            '<a target=\"_blank\" href=https://colab.research.google.com/notebooks/data_table.ipynb>data table notebook</a>'\n",
              "            + ' to learn more about interactive tables.';\n",
              "          element.innerHTML = '';\n",
              "          dataTable['output_type'] = 'display_data';\n",
              "          await google.colab.output.renderOutput(dataTable, element);\n",
              "          const docLink = document.createElement('div');\n",
              "          docLink.innerHTML = docLinkHtml;\n",
              "          element.appendChild(docLink);\n",
              "        }\n",
              "      </script>\n",
              "    </div>\n",
              "  </div>\n",
              "  "
            ]
          },
          "metadata": {},
          "execution_count": 379
        }
      ]
    },
    {
      "cell_type": "code",
      "source": [
        "to_group = kyiv.loc[kyiv[\"message_text\"].str.contains(\"Відбій\")]\n",
        "kyiv_grouped = to_group.groupby(pd.Grouper(key='date', axis=0, \n",
        "                      freq='D', sort=True)).sum()\n",
        "              "
      ],
      "metadata": {
        "id": "oixTHDngavfl"
      },
      "execution_count": 380,
      "outputs": []
    },
    {
      "cell_type": "code",
      "source": [
        "kyiv.drop_duplicates(subset =\"message_text\",\n",
        "                     keep = False, inplace = True)\n",
        " "
      ],
      "metadata": {
        "id": "sg8GWaAclUFD"
      },
      "execution_count": 381,
      "outputs": []
    },
    {
      "cell_type": "code",
      "source": [
        "kyiv_grouped.drop('id', axis=1)['alert_hours'].plot()"
      ],
      "metadata": {
        "colab": {
          "base_uri": "https://localhost:8080/",
          "height": 335
        },
        "id": "XrGDcgpTbG4Q",
        "outputId": "8bc236eb-f3f7-4628-bb31-a335117c2754"
      },
      "execution_count": 384,
      "outputs": [
        {
          "output_type": "execute_result",
          "data": {
            "text/plain": [
              "<matplotlib.axes._subplots.AxesSubplot at 0x7fcd902d2490>"
            ]
          },
          "metadata": {},
          "execution_count": 384
        },
        {
          "output_type": "display_data",
          "data": {
            "text/plain": [
              "<Figure size 432x288 with 1 Axes>"
            ],
            "image/png": "[encoded data removed]"
          },
          "metadata": {
            "needs_background": "light"
          }
        }
      ]
    }
  ]
}